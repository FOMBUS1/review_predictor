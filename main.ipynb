{
 "cells": [
  {
   "cell_type": "markdown",
   "metadata": {},
   "source": [
    "# Импортирование библиотек"
   ]
  },
  {
   "cell_type": "code",
   "execution_count": 1,
   "metadata": {},
   "outputs": [],
   "source": [
    "from nltk.tokenize import wordpunct_tokenize\n",
    "from sklearn.feature_extraction.text import TfidfVectorizer\n",
    "from sklearn.linear_model import LogisticRegression\n",
    "from sklearn.model_selection import train_test_split\n",
    "from tqdm import tqdm\n",
    "\n",
    "import pandas as pd\n",
    "import torch.nn as nn\n",
    "import numpy as np\n",
    "\n",
    "import torch"
   ]
  },
  {
   "cell_type": "markdown",
   "metadata": {},
   "source": [
    "# Выгрузка данных\n",
    "## Информация про датасет\n",
    "### Columns - [text, label]\n",
    "1. text - Содержит отзыв о фильме\n",
    "2. label:\n",
    "    - 0 - негативный отзыв\n",
    "    - 1 - позитивный отзыв\n",
    "- ссылка на датасет: https://www.kaggle.com/datasets/thedevastator/imdb-movie-review-sentiment-dataset?select=train.csv"
   ]
  },
  {
   "cell_type": "code",
   "execution_count": 2,
   "metadata": {},
   "outputs": [
    {
     "data": {
      "text/html": [
       "<div>\n",
       "<style scoped>\n",
       "    .dataframe tbody tr th:only-of-type {\n",
       "        vertical-align: middle;\n",
       "    }\n",
       "\n",
       "    .dataframe tbody tr th {\n",
       "        vertical-align: top;\n",
       "    }\n",
       "\n",
       "    .dataframe thead th {\n",
       "        text-align: right;\n",
       "    }\n",
       "</style>\n",
       "<table border=\"1\" class=\"dataframe\">\n",
       "  <thead>\n",
       "    <tr style=\"text-align: right;\">\n",
       "      <th></th>\n",
       "      <th>text</th>\n",
       "      <th>label</th>\n",
       "    </tr>\n",
       "  </thead>\n",
       "  <tbody>\n",
       "    <tr>\n",
       "      <th>0</th>\n",
       "      <td>I rented I AM CURIOUS-YELLOW from my video sto...</td>\n",
       "      <td>0</td>\n",
       "    </tr>\n",
       "    <tr>\n",
       "      <th>1</th>\n",
       "      <td>\"I Am Curious: Yellow\" is a risible and preten...</td>\n",
       "      <td>0</td>\n",
       "    </tr>\n",
       "    <tr>\n",
       "      <th>2</th>\n",
       "      <td>If only to avoid making this type of film in t...</td>\n",
       "      <td>0</td>\n",
       "    </tr>\n",
       "    <tr>\n",
       "      <th>3</th>\n",
       "      <td>This film was probably inspired by Godard's Ma...</td>\n",
       "      <td>0</td>\n",
       "    </tr>\n",
       "    <tr>\n",
       "      <th>4</th>\n",
       "      <td>Oh, brother...after hearing about this ridicul...</td>\n",
       "      <td>0</td>\n",
       "    </tr>\n",
       "  </tbody>\n",
       "</table>\n",
       "</div>"
      ],
      "text/plain": [
       "                                                text  label\n",
       "0  I rented I AM CURIOUS-YELLOW from my video sto...      0\n",
       "1  \"I Am Curious: Yellow\" is a risible and preten...      0\n",
       "2  If only to avoid making this type of film in t...      0\n",
       "3  This film was probably inspired by Godard's Ma...      0\n",
       "4  Oh, brother...after hearing about this ridicul...      0"
      ]
     },
     "execution_count": 2,
     "metadata": {},
     "output_type": "execute_result"
    }
   ],
   "source": [
    "df1 = pd.read_csv('train.csv')\n",
    "df2 = pd.read_csv('test.csv')\n",
    "df = pd.concat([df1, df2])\n",
    "df.head()"
   ]
  },
  {
   "cell_type": "code",
   "execution_count": 3,
   "metadata": {},
   "outputs": [
    {
     "data": {
      "text/plain": [
       "label\n",
       "0    25000\n",
       "1    25000\n",
       "Name: count, dtype: int64"
      ]
     },
     "execution_count": 3,
     "metadata": {},
     "output_type": "execute_result"
    }
   ],
   "source": [
    "df.label.value_counts()"
   ]
  },
  {
   "cell_type": "markdown",
   "metadata": {},
   "source": [
    "#### Пример негативного отзыва"
   ]
  },
  {
   "cell_type": "code",
   "execution_count": 4,
   "metadata": {},
   "outputs": [
    {
     "data": {
      "text/plain": [
       "\"This film is just plain horrible. John Ritter doing pratt falls, 75% of the actors delivering their lines as if they were reading them from cue cards, poor editing, horrible sound mixing (dialogue is tough to pick up in places over the background noise), and a plot that really goes nowhere. I didn't think I'd ever say this, but Dorothy Stratten is not the worst actress in this film. There are at least 3 others that suck more. Patti Hansen delivers her lines with the passion of Ben Stein. I started to wonder if she wasn't dead inside. Even Bogdanovich's kids are awful (the oldest one is definitely reading her lines from a cue card). This movie is seriously horrible. There's a reason Bogdanovich couldn't get another project until 4 years later. Please don't watch it. If you see it in your television listings, cancel your cable. If a friend suggests it to you, reconsider your friendship. If your spouse wants to watch it, you're better off finding another soulmate. I'd rather gouge my eyes out with lawn darts than sit through this piece of garbage again. If I could sum this film up in one word, that word would be: Suckotrocity\""
      ]
     },
     "execution_count": 4,
     "metadata": {},
     "output_type": "execute_result"
    }
   ],
   "source": [
    "df[df['label'] == 0].iloc[15].text"
   ]
  },
  {
   "cell_type": "markdown",
   "metadata": {},
   "source": [
    "##### Пример положительного отзыва"
   ]
  },
  {
   "cell_type": "code",
   "execution_count": 5,
   "metadata": {},
   "outputs": [
    {
     "data": {
      "text/plain": [
       "\"Lars von Trier's Europa is a worthy echo of The Third Man, about an American coming to post-World War II Europe and finds himself entangled in a dangerous mystery.<br /><br />Jean-Marc Barr plays Leopold Kessler, a German-American who refused to join the US Army during the war, arrives in Frankfurt as soon as the war is over to work with his uncle as a sleeping car conductor on the Zentropa Railway. What he doesn't know is the war is still secretly going on with an underground terrorist group called the Werewolves who target American allies. Leopold is strongly against taking any sides, but is drawn in and seduced by Katharina Hartmann (Barbara Sukowa), the femme fatale daughter of the owner of the railway company. Her father was a Nazi sympathizer, but is pardoned by the American Colonel Harris (Eddie Considine) because he can help get the German transportation system up and running again. The colonel soon enlists, or forces, Leopold to be a spy (without giving him a choice or chance to think about it) to see if the Werewolves might carry out attacks on the trains.<br /><br />Soon, Leopold is stuck in an adventure by being involved with both sides of the conflict in a mysterious and film noir-ish way, where everyone and everything is not what it seems. Its amazing to watch the naive Leopold deal with everything (his lover, the terrorists, the colonel, annoying passengers, his disgruntled uncle, even the railway company's officials who come to examine his work ethic) before he finally boils over and humorously and violently takes control. The film is endlessly unpredictable.<br /><br />The film stylishly shot, it always takes place at night during the winter with lots of falling snow. Its shot in black and white with shots of color randomly appearing throughout. Also, background screens displaying images that counter act with the images up front. Add Max von Sydow's hypnotic narration, and Europa becomes a dreamlike place that's out of this world.<br /><br />This is now a personal favorite film of mine.\""
      ]
     },
     "execution_count": 5,
     "metadata": {},
     "output_type": "execute_result"
    }
   ],
   "source": [
    "df[df['label'] == 1].iloc[10].text"
   ]
  },
  {
   "cell_type": "markdown",
   "metadata": {},
   "source": [
    "# Обработка данных \n",
    "1. Привести всё к нижнему регистру и токенезировать слова.\n",
    "2. Векторизовать строки с помощью Tf-IDF алгоритма"
   ]
  },
  {
   "cell_type": "code",
   "execution_count": 6,
   "metadata": {},
   "outputs": [],
   "source": [
    "df['text'] = df['text'].apply(lambda x: ' '.join(wordpunct_tokenize(x.lower())))"
   ]
  },
  {
   "cell_type": "code",
   "execution_count": 7,
   "metadata": {},
   "outputs": [],
   "source": [
    "vec = TfidfVectorizer()\n",
    "X = vec.fit_transform(df['text'])\n",
    "y = df['label']"
   ]
  },
  {
   "cell_type": "markdown",
   "metadata": {},
   "source": [
    "# Разделение данных на тестовую и тренировочную выборку"
   ]
  },
  {
   "cell_type": "code",
   "execution_count": 8,
   "metadata": {},
   "outputs": [],
   "source": [
    "X_train, X_test, y_train, y_test = train_test_split(X, y, test_size=0.33, random_state=42)"
   ]
  },
  {
   "cell_type": "code",
   "execution_count": 9,
   "metadata": {},
   "outputs": [
    {
     "data": {
      "text/plain": [
       "(33500, 101895)"
      ]
     },
     "execution_count": 9,
     "metadata": {},
     "output_type": "execute_result"
    }
   ],
   "source": [
    "X_train.shape"
   ]
  },
  {
   "cell_type": "markdown",
   "metadata": {},
   "source": [
    "# Обучение и тест моделей"
   ]
  },
  {
   "cell_type": "markdown",
   "metadata": {},
   "source": [
    "### Обучение логистической регрессии"
   ]
  },
  {
   "cell_type": "code",
   "execution_count": 10,
   "metadata": {},
   "outputs": [
    {
     "name": "stdout",
     "output_type": "stream",
     "text": [
      "Точность на тренировочной выборке: 0.93\n",
      "Точность на тестовой выборке: 0.90\n"
     ]
    }
   ],
   "source": [
    "log_reg = LogisticRegression(random_state=0).fit(X_train, y_train)\n",
    "\n",
    "\n",
    "print(\"Точность на тренировочной выборке: {:.2f}\".format(log_reg.score(X_train, y_train))) \n",
    "print(\"Точность на тестовой выборке: {:.2f}\".format(log_reg.score(X_test, y_test)))"
   ]
  },
  {
   "cell_type": "markdown",
   "metadata": {},
   "source": [
    "### Линейная нейронная сеть (состоящая из линейных слоёв)"
   ]
  },
  {
   "cell_type": "code",
   "execution_count": 11,
   "metadata": {},
   "outputs": [],
   "source": [
    "class LinearNetwork(nn.Module):\n",
    "    def __init__(self, seq_size):\n",
    "        super().__init__()\n",
    "        self.model = nn.Sequential(\n",
    "            nn.Linear(seq_size, seq_size//1024),\n",
    "            nn.ReLU(),\n",
    "            nn.Linear(seq_size//1024, 32),\n",
    "            nn.ReLU(),\n",
    "            nn.Linear(32, 1),\n",
    "            nn.Sigmoid(),\n",
    "        )\n",
    "    def forward(self, x):\n",
    "        return self.model(x)"
   ]
  },
  {
   "cell_type": "code",
   "execution_count": 53,
   "metadata": {},
   "outputs": [],
   "source": [
    "class RecNetwork(nn.Module):\n",
    "    def __init__(self, seq_size):\n",
    "        super().__init__()\n",
    "        self.lin1 = nn.Linear(seq_size, seq_size//1024)\n",
    "        self.rnn = nn.LSTM(seq_size//1024, 32, 2)\n",
    "        self.rnn2 = nn.LSTM(32, 32, 2)\n",
    "        self.lin2 = nn.Linear(32, 1)\n",
    "        self.relu = nn.ReLU()\n",
    "    def forward(self, x):\n",
    "        x = self.lin1(x)\n",
    "        x = nn.ReLU()(x)\n",
    "        x = nn.Dropout(0.25)(x)\n",
    "        x, hn = self.rnn(x)\n",
    "        x = nn.Dropout(0.25)(x)\n",
    "        x, _ = self.rnn2(x, hn)\n",
    "        x = nn.Dropout(0.25)(x)\n",
    "        x = self.lin2(x)\n",
    "        return nn.Sigmoid()(x)"
   ]
  },
  {
   "cell_type": "code",
   "execution_count": 54,
   "metadata": {},
   "outputs": [],
   "source": [
    "device = torch.device('cuda')"
   ]
  },
  {
   "cell_type": "code",
   "execution_count": 55,
   "metadata": {},
   "outputs": [],
   "source": [
    "lin_net = LinearNetwork(X_train.shape[1]).to(device)\n",
    "loss_fn = nn.BCELoss()\n",
    "lin_opt = torch.optim.Adam(lin_net.parameters())"
   ]
  },
  {
   "cell_type": "code",
   "execution_count": 56,
   "metadata": {},
   "outputs": [],
   "source": [
    "rec_net = RecNetwork(X_train.shape[1]).to(device)\n",
    "loss_fn = nn.BCELoss()\n",
    "rec_opt = torch.optim.Adam(rec_net.parameters())"
   ]
  },
  {
   "cell_type": "code",
   "execution_count": 57,
   "metadata": {},
   "outputs": [],
   "source": [
    "batch_size = 48\n",
    "epochs = 1"
   ]
  },
  {
   "cell_type": "code",
   "execution_count": 58,
   "metadata": {},
   "outputs": [],
   "source": [
    "def test(model):\n",
    "    total_loss = 0\n",
    "    accuracy = 0\n",
    "    for i in tqdm(range(0, X_test.shape[0] - batch_size, batch_size)):\n",
    "        X = torch.tensor(X_test[i:i+batch_size].toarray()).float().to(device)\n",
    "        y = torch.tensor(y_test[i:i+batch_size].to_numpy()).reshape(batch_size, 1).float().to(device)\n",
    "\n",
    "        with torch.no_grad():\n",
    "            out = model(X)\n",
    "            loss = loss_fn(out, y)\n",
    "            total_loss += loss\n",
    "        results = torch.round(out)\n",
    "        for i in range(batch_size):\n",
    "            if results[i] == y[i]:\n",
    "                accuracy += 1\n",
    "        accuracy /= batch_size\n",
    "\n",
    "    return accuracy"
   ]
  },
  {
   "cell_type": "code",
   "execution_count": 64,
   "metadata": {},
   "outputs": [],
   "source": [
    "def train(network, optim, epochs=1):\n",
    "    for epoch in range(epochs):\n",
    "        accuracy = 0\n",
    "        for i in tqdm(range(0, X_train.shape[0] - batch_size, batch_size)):\n",
    "            X = torch.tensor(X_train[i:i+batch_size].toarray()).float().to(device)\n",
    "            y = torch.tensor(y_train[i:i+batch_size].to_numpy()).reshape(batch_size, 1).float().to(device)\n",
    "            \n",
    "            out = network(X)\n",
    "            loss = loss_fn(out, y)\n",
    "\n",
    "            network.zero_grad()\n",
    "            loss.backward()\n",
    "            optim.step()\n",
    "\n",
    "            results = torch.round(out)\n",
    "            for i in range(batch_size):\n",
    "                if results[i] == y[i]:\n",
    "                    accuracy += 1\n",
    "            accuracy /= batch_size\n",
    "        print(\"Точность для тренировочного набора: {:.2f}%\".format(accuracy / batch_size))\n",
    "        print(\"Точность для тестового набора: {:.2f}%\".format(test(network)*100))"
   ]
  },
  {
   "cell_type": "code",
   "execution_count": 65,
   "metadata": {},
   "outputs": [
    {
     "name": "stderr",
     "output_type": "stream",
     "text": [
      "100%|██████████| 697/697 [00:25<00:00, 27.56it/s]\n"
     ]
    },
    {
     "name": "stdout",
     "output_type": "stream",
     "text": [
      "Точность для тестового набора: 64979.17%\n"
     ]
    },
    {
     "name": "stderr",
     "output_type": "stream",
     "text": [
      "100%|██████████| 343/343 [00:12<00:00, 27.36it/s]"
     ]
    },
    {
     "name": "stdout",
     "output_type": "stream",
     "text": [
      "Точность для тестового набора: 85.28%\n"
     ]
    },
    {
     "name": "stderr",
     "output_type": "stream",
     "text": [
      "\n"
     ]
    }
   ],
   "source": [
    "train(lin_net, lin_opt, epochs=epochs)"
   ]
  },
  {
   "cell_type": "code",
   "execution_count": 61,
   "metadata": {},
   "outputs": [
    {
     "name": "stderr",
     "output_type": "stream",
     "text": [
      "  0%|          | 0/697 [00:00<?, ?it/s]\n"
     ]
    },
    {
     "ename": "NameError",
     "evalue": "name 'results' is not defined",
     "output_type": "error",
     "traceback": [
      "\u001b[1;31m---------------------------------------------------------------------------\u001b[0m",
      "\u001b[1;31mNameError\u001b[0m                                 Traceback (most recent call last)",
      "Cell \u001b[1;32mIn[61], line 1\u001b[0m\n\u001b[1;32m----> 1\u001b[0m train(rec_net, rec_opt, epochs\u001b[38;5;241m=\u001b[39mepochs)\n",
      "Cell \u001b[1;32mIn[59], line 15\u001b[0m, in \u001b[0;36mtrain\u001b[1;34m(network, optim, epochs)\u001b[0m\n\u001b[0;32m     13\u001b[0m optim\u001b[38;5;241m.\u001b[39mstep()\n\u001b[0;32m     14\u001b[0m \u001b[38;5;28;01mfor\u001b[39;00m i \u001b[38;5;129;01min\u001b[39;00m \u001b[38;5;28mrange\u001b[39m(batch_size):\n\u001b[1;32m---> 15\u001b[0m     \u001b[38;5;28;01mif\u001b[39;00m results[i] \u001b[38;5;241m==\u001b[39m y[i]:\n\u001b[0;32m     16\u001b[0m         accuracy \u001b[38;5;241m+\u001b[39m\u001b[38;5;241m=\u001b[39m \u001b[38;5;241m1\u001b[39m\n\u001b[0;32m     17\u001b[0m \u001b[38;5;28mprint\u001b[39m(\u001b[38;5;124m\"\u001b[39m\u001b[38;5;124mТочность для тестового набора: \u001b[39m\u001b[38;5;132;01m{:.2f}\u001b[39;00m\u001b[38;5;124m%\u001b[39m\u001b[38;5;124m\"\u001b[39m\u001b[38;5;241m.\u001b[39mformat(accuracy \u001b[38;5;241m/\u001b[39m batch_size \u001b[38;5;241m*\u001b[39m \u001b[38;5;241m100\u001b[39m))\n",
      "\u001b[1;31mNameError\u001b[0m: name 'results' is not defined"
     ]
    }
   ],
   "source": [
    "train(rec_net, rec_opt, epochs=epochs)"
   ]
  },
  {
   "cell_type": "code",
   "execution_count": 73,
   "metadata": {},
   "outputs": [
    {
     "data": {
      "text/plain": [
       "(LinearNetwork(\n",
       "   (model): Sequential(\n",
       "     (0): Linear(in_features=101895, out_features=99, bias=True)\n",
       "     (1): ReLU()\n",
       "     (2): Linear(in_features=99, out_features=32, bias=True)\n",
       "     (3): ReLU()\n",
       "     (4): Linear(in_features=32, out_features=1, bias=True)\n",
       "     (5): Sigmoid()\n",
       "   )\n",
       " ),\n",
       " RecNetwork(\n",
       "   (lin1): Linear(in_features=101895, out_features=99, bias=True)\n",
       "   (rnn): LSTM(99, 20, num_layers=2)\n",
       "   (lin2): Linear(in_features=20, out_features=1, bias=True)\n",
       "   (relu): ReLU()\n",
       " ))"
      ]
     },
     "execution_count": 73,
     "metadata": {},
     "output_type": "execute_result"
    }
   ],
   "source": [
    "lin_net.eval(), rec_net.eval()"
   ]
  },
  {
   "cell_type": "markdown",
   "metadata": {},
   "source": [
    "# Пример использования"
   ]
  },
  {
   "cell_type": "markdown",
   "metadata": {},
   "source": [
    "### Пример предсказания негативного отзыва"
   ]
  },
  {
   "cell_type": "code",
   "execution_count": 74,
   "metadata": {},
   "outputs": [
    {
     "name": "stdout",
     "output_type": "stream",
     "text": [
      "Отзыв:  I really hate this movie! The plot is so boring! Don't recommend it to anyone\n",
      "Предсказания логистической регрессии: Плохой\n",
      "С вероятностью: 94.28%\n",
      "\n",
      "Предсказание линейной нейронной сети: Плохой\n",
      "С вероятность 99.92%\n",
      "\n",
      "Предсказание рекуррентной нейронной сети: Плохой\n",
      "С вероятность 98.90%\n"
     ]
    }
   ],
   "source": [
    "review = \"I really hate this movie! The plot is so boring! Don't recommend it to anyone\"\n",
    "text = [' '.join(wordpunct_tokenize(review.lower()))]\n",
    "text = vec.transform(text)\n",
    "\n",
    "text_to_model = torch.tensor(text.toarray().reshape(1, -1)).float()\n",
    "\n",
    "print(\"Отзыв: \", review)\n",
    "log_pred = log_reg.predict_proba(text.reshape(1, -1)[0])\n",
    "print(f\"Предсказания логистической регрессии: {'Хороший' if np.argmax(log_pred) == 1 else 'Плохой'}\")\n",
    "print(\"С вероятностью: {:.2f}%\".format(max(log_reg.predict_proba(text.reshape(1, -1))[0])*100))\n",
    "print()\n",
    "lin_model_pred = lin_net(text_to_model).item()\n",
    "print(f\"Предсказание линейной нейронной сети: {'Хороший' if lin_model_pred > 0.5 else 'Плохой'}\")\n",
    "print(\"С вероятность {:.2f}%\".format(lin_model_pred*100 if lin_model_pred > 0.5 else (1 - lin_model_pred)*100))\n",
    "print()\n",
    "rec_model_pred = rec_net(text_to_model).item()\n",
    "print(f\"Предсказание рекуррентной нейронной сети: {'Хороший' if rec_model_pred > 0.5 else 'Плохой'}\")\n",
    "print(\"С вероятность {:.2f}%\".format(rec_model_pred*100 if rec_model_pred > 0.5 else (1 - rec_model_pred)*100))\n"
   ]
  },
  {
   "cell_type": "markdown",
   "metadata": {},
   "source": [
    "### Пример предсказания позитивного отзыва"
   ]
  },
  {
   "cell_type": "code",
   "execution_count": 75,
   "metadata": {},
   "outputs": [
    {
     "name": "stdout",
     "output_type": "stream",
     "text": [
      "Отзыв: It was the best movie I've ever seen! I mean the plot is so awesome and intresting. I'm defenetly going to rewatch it!\n",
      "Предсказания логистической регрессии: Хороший\n",
      "С вероятностью: 80.51%\n",
      "\n",
      "Предсказание линейной нейронной сети: Хороший\n",
      "С вероятность 99.63%\n",
      "\n",
      "Предсказание рекуррентной нейронной сети: Хороший\n",
      "С вероятность 99.07%\n"
     ]
    }
   ],
   "source": [
    "review = \"It was the best movie I've ever seen! I mean the plot is so awesome and intresting. I'm defenetly going to rewatch it!\"\n",
    "text = [' '.join(wordpunct_tokenize(review.lower()))]\n",
    "text = vec.transform(text)\n",
    "\n",
    "text_to_model = torch.tensor(text.toarray().reshape(1, -1)).float()\n",
    "\n",
    "print(\"Отзыв:\", review)\n",
    "log_pred = log_reg.predict_proba(text.reshape(1, -1)[0])\n",
    "print(f\"Предсказания логистической регрессии: {'Хороший' if np.argmax(log_pred) == 1 else 'Плохой'}\")\n",
    "print(\"С вероятностью: {:.2f}%\".format(max(log_reg.predict_proba(text.reshape(1, -1))[0])*100))\n",
    "print()\n",
    "lin_model_pred = lin_net(text_to_model).item()\n",
    "print(f\"Предсказание линейной нейронной сети: {'Хороший' if lin_model_pred > 0.5 else 'Плохой'}\")\n",
    "print(\"С вероятность {:.2f}%\".format(lin_model_pred*100 if lin_model_pred > 0.5 else (1 - lin_model_pred)*100))\n",
    "print()\n",
    "rec_model_pred = rec_net(text_to_model).item()\n",
    "print(f\"Предсказание рекуррентной нейронной сети: {'Хороший' if rec_model_pred > 0.5 else 'Плохой'}\")\n",
    "print(\"С вероятность {:.2f}%\".format(rec_model_pred*100 if rec_model_pred > 0.5 else (1 - rec_model_pred)*100))\n"
   ]
  },
  {
   "cell_type": "markdown",
   "metadata": {},
   "source": [
    "### Пример предсказания нейтрального отзыва"
   ]
  },
  {
   "cell_type": "code",
   "execution_count": 76,
   "metadata": {},
   "outputs": [
    {
     "name": "stdout",
     "output_type": "stream",
     "text": [
      "Отзыв:  It wasn't that bad but I mean the plot is not that intesting either. Would I recommend it? I'm not sure. You can watch it, maybe you will like it more.\n",
      "Предсказания логистической регрессии: Плохой\n",
      "С вероятностью: 81.81%\n",
      "\n",
      "Предсказание линейной нейронной сети: Плохой\n",
      "С вероятность 99.13%\n",
      "\n",
      "Предсказание рекуррентной нейронной сети: Плохой\n",
      "С вероятность 98.90%\n"
     ]
    }
   ],
   "source": [
    "review = \"It wasn't that bad but I mean the plot is not that intesting either. Would I recommend it? I'm not sure. You can watch it, maybe you will like it more.\"\n",
    "text = [' '.join(wordpunct_tokenize(review.lower()))]\n",
    "text = vec.transform(text)\n",
    "\n",
    "text_to_model = torch.tensor(text.toarray().reshape(1, -1)).float()\n",
    "\n",
    "print(\"Отзыв: \", review)\n",
    "log_pred = log_reg.predict_proba(text.reshape(1, -1)[0])\n",
    "print(f\"Предсказания логистической регрессии: {'Хороший' if np.argmax(log_pred) == 1 else 'Плохой'}\")\n",
    "print(\"С вероятностью: {:.2f}%\".format(max(log_reg.predict_proba(text.reshape(1, -1))[0])*100))\n",
    "print()\n",
    "lin_model_pred = lin_net(text_to_model).item()\n",
    "print(f\"Предсказание линейной нейронной сети: {'Хороший' if lin_model_pred > 0.5 else 'Плохой'}\")\n",
    "print(\"С вероятность {:.2f}%\".format(lin_model_pred*100 if lin_model_pred > 0.5 else (1 - lin_model_pred)*100))\n",
    "print()\n",
    "rec_model_pred = rec_net(text_to_model).item()\n",
    "print(f\"Предсказание рекуррентной нейронной сети: {'Хороший' if rec_model_pred > 0.5 else 'Плохой'}\")\n",
    "print(\"С вероятность {:.2f}%\".format(rec_model_pred*100 if rec_model_pred > 0.5 else (1 - rec_model_pred)*100))\n"
   ]
  },
  {
   "cell_type": "markdown",
   "metadata": {},
   "source": [
    "#### Вывод: логистическая регрессия показывает намного лучше результат, чем случайный лес, поэтому подходит намного лучше для предсказания.\n",
    "##### Логичестическая регрессия итак показывает довольно неплохой результат, но этот результат можно улучшить ещё больше, если использовать более продвинутые модели глубого обучения для анализа текста, использующие Attention и Self-Attention"
   ]
  },
  {
   "cell_type": "markdown",
   "metadata": {},
   "source": []
  },
  {
   "cell_type": "markdown",
   "metadata": {},
   "source": []
  }
 ],
 "metadata": {
  "kernelspec": {
   "display_name": "Python 3",
   "language": "python",
   "name": "python3"
  },
  "language_info": {
   "codemirror_mode": {
    "name": "ipython",
    "version": 3
   },
   "file_extension": ".py",
   "mimetype": "text/x-python",
   "name": "python",
   "nbconvert_exporter": "python",
   "pygments_lexer": "ipython3",
   "version": "3.11.5"
  }
 },
 "nbformat": 4,
 "nbformat_minor": 2
}
