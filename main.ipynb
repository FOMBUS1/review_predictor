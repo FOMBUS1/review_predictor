{
 "cells": [
  {
   "cell_type": "markdown",
   "metadata": {},
   "source": [
    "# Импортирование библиотек"
   ]
  },
  {
   "cell_type": "code",
   "execution_count": 2,
   "metadata": {},
   "outputs": [],
   "source": [
    "from nltk.tokenize import wordpunct_tokenize\n",
    "from sklearn.feature_extraction.text import TfidfVectorizer\n",
    "from sklearn.linear_model import LogisticRegression\n",
    "from sklearn.ensemble import RandomForestClassifier\n",
    "from sklearn.model_selection import train_test_split\n",
    "\n",
    "import pandas as pd"
   ]
  },
  {
   "cell_type": "markdown",
   "metadata": {},
   "source": [
    "# Выгрузка данных\n",
    "## Информация про датасет\n",
    "### Columns - [text, label]\n",
    "1. text - Содержит отзыв о фильме\n",
    "2. label:\n",
    "    - 0 - негативный отзыв\n",
    "    - 1 - позитивный отзыв\n",
    "- ссылка на датасет: https://www.kaggle.com/datasets/thedevastator/imdb-movie-review-sentiment-dataset?select=train.csv"
   ]
  },
  {
   "cell_type": "code",
   "execution_count": 3,
   "metadata": {},
   "outputs": [
    {
     "data": {
      "text/html": [
       "<div>\n",
       "<style scoped>\n",
       "    .dataframe tbody tr th:only-of-type {\n",
       "        vertical-align: middle;\n",
       "    }\n",
       "\n",
       "    .dataframe tbody tr th {\n",
       "        vertical-align: top;\n",
       "    }\n",
       "\n",
       "    .dataframe thead th {\n",
       "        text-align: right;\n",
       "    }\n",
       "</style>\n",
       "<table border=\"1\" class=\"dataframe\">\n",
       "  <thead>\n",
       "    <tr style=\"text-align: right;\">\n",
       "      <th></th>\n",
       "      <th>text</th>\n",
       "      <th>label</th>\n",
       "    </tr>\n",
       "  </thead>\n",
       "  <tbody>\n",
       "    <tr>\n",
       "      <th>0</th>\n",
       "      <td>I rented I AM CURIOUS-YELLOW from my video sto...</td>\n",
       "      <td>0</td>\n",
       "    </tr>\n",
       "    <tr>\n",
       "      <th>1</th>\n",
       "      <td>\"I Am Curious: Yellow\" is a risible and preten...</td>\n",
       "      <td>0</td>\n",
       "    </tr>\n",
       "    <tr>\n",
       "      <th>2</th>\n",
       "      <td>If only to avoid making this type of film in t...</td>\n",
       "      <td>0</td>\n",
       "    </tr>\n",
       "    <tr>\n",
       "      <th>3</th>\n",
       "      <td>This film was probably inspired by Godard's Ma...</td>\n",
       "      <td>0</td>\n",
       "    </tr>\n",
       "    <tr>\n",
       "      <th>4</th>\n",
       "      <td>Oh, brother...after hearing about this ridicul...</td>\n",
       "      <td>0</td>\n",
       "    </tr>\n",
       "  </tbody>\n",
       "</table>\n",
       "</div>"
      ],
      "text/plain": [
       "                                                text  label\n",
       "0  I rented I AM CURIOUS-YELLOW from my video sto...      0\n",
       "1  \"I Am Curious: Yellow\" is a risible and preten...      0\n",
       "2  If only to avoid making this type of film in t...      0\n",
       "3  This film was probably inspired by Godard's Ma...      0\n",
       "4  Oh, brother...after hearing about this ridicul...      0"
      ]
     },
     "execution_count": 3,
     "metadata": {},
     "output_type": "execute_result"
    }
   ],
   "source": [
    "df1 = pd.read_csv('train.csv')\n",
    "df2 = pd.read_csv('test.csv')\n",
    "df = pd.concat([df1, df2])\n",
    "df.head()"
   ]
  },
  {
   "cell_type": "code",
   "execution_count": 4,
   "metadata": {},
   "outputs": [
    {
     "data": {
      "text/plain": [
       "label\n",
       "0    25000\n",
       "1    25000\n",
       "Name: count, dtype: int64"
      ]
     },
     "execution_count": 4,
     "metadata": {},
     "output_type": "execute_result"
    }
   ],
   "source": [
    "df.label.value_counts()"
   ]
  },
  {
   "cell_type": "markdown",
   "metadata": {},
   "source": [
    "#### Пример негативного отзыва"
   ]
  },
  {
   "cell_type": "code",
   "execution_count": 5,
   "metadata": {},
   "outputs": [
    {
     "data": {
      "text/plain": [
       "\"This film is just plain horrible. John Ritter doing pratt falls, 75% of the actors delivering their lines as if they were reading them from cue cards, poor editing, horrible sound mixing (dialogue is tough to pick up in places over the background noise), and a plot that really goes nowhere. I didn't think I'd ever say this, but Dorothy Stratten is not the worst actress in this film. There are at least 3 others that suck more. Patti Hansen delivers her lines with the passion of Ben Stein. I started to wonder if she wasn't dead inside. Even Bogdanovich's kids are awful (the oldest one is definitely reading her lines from a cue card). This movie is seriously horrible. There's a reason Bogdanovich couldn't get another project until 4 years later. Please don't watch it. If you see it in your television listings, cancel your cable. If a friend suggests it to you, reconsider your friendship. If your spouse wants to watch it, you're better off finding another soulmate. I'd rather gouge my eyes out with lawn darts than sit through this piece of garbage again. If I could sum this film up in one word, that word would be: Suckotrocity\""
      ]
     },
     "execution_count": 5,
     "metadata": {},
     "output_type": "execute_result"
    }
   ],
   "source": [
    "df[df['label'] == 0].iloc[15].text"
   ]
  },
  {
   "cell_type": "markdown",
   "metadata": {},
   "source": [
    "##### Пример положительного отзыва"
   ]
  },
  {
   "cell_type": "code",
   "execution_count": 6,
   "metadata": {},
   "outputs": [
    {
     "data": {
      "text/plain": [
       "\"Lars von Trier's Europa is a worthy echo of The Third Man, about an American coming to post-World War II Europe and finds himself entangled in a dangerous mystery.<br /><br />Jean-Marc Barr plays Leopold Kessler, a German-American who refused to join the US Army during the war, arrives in Frankfurt as soon as the war is over to work with his uncle as a sleeping car conductor on the Zentropa Railway. What he doesn't know is the war is still secretly going on with an underground terrorist group called the Werewolves who target American allies. Leopold is strongly against taking any sides, but is drawn in and seduced by Katharina Hartmann (Barbara Sukowa), the femme fatale daughter of the owner of the railway company. Her father was a Nazi sympathizer, but is pardoned by the American Colonel Harris (Eddie Considine) because he can help get the German transportation system up and running again. The colonel soon enlists, or forces, Leopold to be a spy (without giving him a choice or chance to think about it) to see if the Werewolves might carry out attacks on the trains.<br /><br />Soon, Leopold is stuck in an adventure by being involved with both sides of the conflict in a mysterious and film noir-ish way, where everyone and everything is not what it seems. Its amazing to watch the naive Leopold deal with everything (his lover, the terrorists, the colonel, annoying passengers, his disgruntled uncle, even the railway company's officials who come to examine his work ethic) before he finally boils over and humorously and violently takes control. The film is endlessly unpredictable.<br /><br />The film stylishly shot, it always takes place at night during the winter with lots of falling snow. Its shot in black and white with shots of color randomly appearing throughout. Also, background screens displaying images that counter act with the images up front. Add Max von Sydow's hypnotic narration, and Europa becomes a dreamlike place that's out of this world.<br /><br />This is now a personal favorite film of mine.\""
      ]
     },
     "execution_count": 6,
     "metadata": {},
     "output_type": "execute_result"
    }
   ],
   "source": [
    "df[df['label'] == 1].iloc[10].text"
   ]
  },
  {
   "cell_type": "markdown",
   "metadata": {},
   "source": [
    "# Обработка данных \n",
    "1. Привести всё к нижнему регистру и токенезировать слова.\n",
    "2. Векторизовать строки с помощью Tf-IDF алгоритма"
   ]
  },
  {
   "cell_type": "code",
   "execution_count": 7,
   "metadata": {},
   "outputs": [],
   "source": [
    "df['text'] = df['text'].apply(lambda x: ' '.join(wordpunct_tokenize(x.lower())))"
   ]
  },
  {
   "cell_type": "code",
   "execution_count": 8,
   "metadata": {},
   "outputs": [],
   "source": [
    "vec = TfidfVectorizer()\n",
    "X = vec.fit_transform(df['text'])\n",
    "y = df['label']"
   ]
  },
  {
   "cell_type": "markdown",
   "metadata": {},
   "source": [
    "# Разделение данных на тестовую и тренировочную выборку"
   ]
  },
  {
   "cell_type": "code",
   "execution_count": 9,
   "metadata": {},
   "outputs": [],
   "source": [
    "X_train, X_test, y_train, y_test = train_test_split(X, y, test_size=0.33, random_state=42)"
   ]
  },
  {
   "cell_type": "markdown",
   "metadata": {},
   "source": [
    "# Обучение и тест моделей"
   ]
  },
  {
   "cell_type": "code",
   "execution_count": 13,
   "metadata": {},
   "outputs": [
    {
     "name": "stdout",
     "output_type": "stream",
     "text": [
      "Точность на тренировочной выборке: 0.93\n",
      "Точность на тестовой выборке: 0.90\n"
     ]
    }
   ],
   "source": [
    "log_reg = LogisticRegression(random_state=0).fit(X_train, y_train)\n",
    "\n",
    "\n",
    "print(\"Точность на тренировочной выборке: {:.2f}\".format(log_reg.score(X_train, y_train))) \n",
    "print(\"Точность на тестовой выборке: {:.2f}\".format(log_reg.score(X_test, y_test)))"
   ]
  },
  {
   "cell_type": "code",
   "execution_count": 15,
   "metadata": {},
   "outputs": [
    {
     "name": "stdout",
     "output_type": "stream",
     "text": [
      "Точность на тренировочной выборке: 0.83\n",
      "Точность на тестовой выборке: 0.81\n"
     ]
    }
   ],
   "source": [
    "rm_forest = RandomForestClassifier(max_depth=5, random_state=0).fit(X_train, y_train)\n",
    "\n",
    "print(\"Точность на тренировочной выборке: {:.2f}\".format(rm_forest.score(X_train, y_train)))\n",
    "print(\"Точность на тестовой выборке: {:.2f}\".format(rm_forest.score(X_test, y_test)))"
   ]
  },
  {
   "cell_type": "markdown",
   "metadata": {},
   "source": [
    "# Пример использования"
   ]
  },
  {
   "cell_type": "markdown",
   "metadata": {},
   "source": [
    "### Пример предсказания негативного отзыва"
   ]
  },
  {
   "cell_type": "code",
   "execution_count": 20,
   "metadata": {},
   "outputs": [
    {
     "name": "stdout",
     "output_type": "stream",
     "text": [
      "Предсказания логистической регрессии:  [0.94278559 0.05721441]\n",
      "Предсказание случайного леса решений:  [0.50013103 0.49986897]\n"
     ]
    }
   ],
   "source": [
    "text = [' '.join(wordpunct_tokenize(\"I really hate this movie! The plot is so boring! Don't recommend it to anyone\".lower()))]\n",
    "text = vec.transform(text)\n",
    "\n",
    "print(\"Предсказания логистической регрессии: \", log_reg.predict_proba(text.reshape(1, -1))[0])\n",
    "print(\"Предсказание случайного леса решений: \", rm_forest.predict_proba(text.reshape(1, -1))[0])"
   ]
  },
  {
   "cell_type": "markdown",
   "metadata": {},
   "source": [
    "### Пример предсказания позитивного отзыва"
   ]
  },
  {
   "cell_type": "code",
   "execution_count": 21,
   "metadata": {},
   "outputs": [
    {
     "name": "stdout",
     "output_type": "stream",
     "text": [
      "Предсказания логистической регрессии:  [0.19490628 0.80509372]\n",
      "Предсказание случайного леса решений:  [0.48379417 0.51620583]\n"
     ]
    }
   ],
   "source": [
    "text = [' '.join(wordpunct_tokenize(\"It was the best movie I've ever seen! I mean the plot is so awesome and intresting. I'm defenetly going to rewatch it!\".lower()))]\n",
    "text = vec.transform(text)\n",
    "\n",
    "print(\"Предсказания логистической регрессии: \", log_reg.predict_proba(text.reshape(1, -1))[0])\n",
    "print(\"Предсказание случайного леса решений: \", rm_forest.predict_proba(text.reshape(1, -1))[0])"
   ]
  },
  {
   "cell_type": "markdown",
   "metadata": {},
   "source": [
    "### Пример предсказания нейтрального отзыва"
   ]
  },
  {
   "cell_type": "code",
   "execution_count": 22,
   "metadata": {},
   "outputs": [
    {
     "name": "stdout",
     "output_type": "stream",
     "text": [
      "Предсказания вероятности логистической регрессии:  [[-0.2008149  -1.70409944]]\n",
      "Предсказания логистической регрессии:  [0]\n",
      "Предсказание случайного леса решений:  [[0.49198092 0.50801908]]\n"
     ]
    }
   ],
   "source": [
    "text = [' '.join(wordpunct_tokenize(\"It wasn't that bad but I mean the plot is not that intesting either. Would I recommend it? I'm not sure. You can watch it, maybe you will like it more.\".lower()))]\n",
    "text = vec.transform(text)\n",
    "\n",
    "print(\"Предсказания вероятности логистической регрессии: \", log_reg.predict_log_proba(text.reshape(1, -1)))\n",
    "print(\"Предсказания логистической регрессии: \", log_reg.predict(text.reshape(1, -1)))\n",
    "print(\"Предсказание случайного леса решений: \",rm_forest.predict_proba(text.reshape(1, -1)))"
   ]
  },
  {
   "cell_type": "markdown",
   "metadata": {},
   "source": [
    "#### Вывод: логистическая регрессия показывает намного лучше результат, чем случайный лес, поэтому подходит намного лучше для предсказания.\n",
    "##### Логичестическая регрессия итак показывает довольно неплохой результат, но этот результат можно улучшить ещё больше, если использовать более продвинутые модели глубого обучения для анализа текста, использующие Attention и Self-Attention"
   ]
  }
 ],
 "metadata": {
  "kernelspec": {
   "display_name": "Python 3",
   "language": "python",
   "name": "python3"
  },
  "language_info": {
   "codemirror_mode": {
    "name": "ipython",
    "version": 3
   },
   "file_extension": ".py",
   "mimetype": "text/x-python",
   "name": "python",
   "nbconvert_exporter": "python",
   "pygments_lexer": "ipython3",
   "version": "3.11.7"
  }
 },
 "nbformat": 4,
 "nbformat_minor": 2
}
